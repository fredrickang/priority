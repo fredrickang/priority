{
 "cells": [
  {
   "cell_type": "code",
   "execution_count": 31,
   "metadata": {},
   "outputs": [],
   "source": [
    "import numpy as np\n",
    "import os\n",
    "import pickle as pk\n",
    "import random\n"
   ]
  },
  {
   "cell_type": "code",
   "execution_count": 32,
   "metadata": {},
   "outputs": [],
   "source": [
    "data_path = '/home/fredrickang/project/SchedulNet/pickle/'\n",
    "data_label = [0,1,2,3,4]"
   ]
  },
  {
   "cell_type": "code",
   "execution_count": 33,
   "metadata": {},
   "outputs": [],
   "source": [
    "data_list = []\n",
    "for i in range(len(data_label)):\n",
    "    fo = open(os.path.join(data_path,'scheduable'+str(data_label[i])+'.pk'), 'rb')\n",
    "    data_list.append(pk.load(fo))\n",
    "    fo.close()"
   ]
  },
  {
   "cell_type": "code",
   "execution_count": 34,
   "metadata": {},
   "outputs": [],
   "source": [
    "#transform taskset with dumy tasks\n",
    "#assign priority and shuffle\n",
    "#splite train & val data set\n",
    "def preprocessing(data_list,target_len):\n",
    "    data_dict = {'data':[], 'label':[]}\n",
    "    for i in range(len(data_list)):\n",
    "        target = data_list[i]\n",
    "        for j in range(len(target)):\n",
    "            taskset = np.array(target[j])\n",
    "            row, col = taskset.shape\n",
    "            if row < target_len:\n",
    "                dummy = np.zeros((target_len -row , col))\n",
    "                taskset = np.concatenate((taskset,dummy))\n",
    "            label = list(range(1,8))\n",
    "            combined = list(zip(taskset, label))\n",
    "            random.shuffle(combined)\n",
    "            taskset , label = zip(*combined)\n",
    "            data_dict['data'].append(taskset)\n",
    "            data_dict['label'].append(label)\n",
    "    data_dict['data'] = np.array(data_dict['data'])\n",
    "    return data_dict\n",
    "    "
   ]
  },
  {
   "cell_type": "code",
   "execution_count": 35,
   "metadata": {},
   "outputs": [],
   "source": [
    "data_dict = preprocessing(data_list,7)"
   ]
  },
  {
   "cell_type": "code",
   "execution_count": 36,
   "metadata": {},
   "outputs": [],
   "source": [
    "fo = open('Scheduable_dict.pk','wb')\n",
    "pk.dump(data_dict,fo)\n",
    "fo.close()"
   ]
  },
  {
   "cell_type": "code",
   "execution_count": 38,
   "metadata": {},
   "outputs": [],
   "source": [
    "train_dict = {'data':data_dict['data'][:int(0.7*len(data_dict['data']))],'label':data_dict['label'][:int(0.7*len(data_dict['data']))]}\n",
    "test_dict = {'data':data_dict['data'][int(0.7*len(data_dict['data'])):],'label':data_dict['label'][int(0.7*len(data_dict['data'])):]}"
   ]
  },
  {
   "cell_type": "code",
   "execution_count": 39,
   "metadata": {},
   "outputs": [],
   "source": [
    "fo = open('train_dict.pk','wb')\n",
    "pk.dump(train_dict,fo)\n",
    "fo.close()"
   ]
  },
  {
   "cell_type": "code",
   "execution_count": 41,
   "metadata": {},
   "outputs": [],
   "source": [
    "fo = open('test_dict.pk','wb')\n",
    "pk.dump(test_dict,fo)\n",
    "fo.close()"
   ]
  },
  {
   "cell_type": "code",
   "execution_count": null,
   "metadata": {},
   "outputs": [],
   "source": []
  }
 ],
 "metadata": {
  "kernelspec": {
   "display_name": "Python 3",
   "language": "python",
   "name": "python3"
  },
  "language_info": {
   "codemirror_mode": {
    "name": "ipython",
    "version": 3
   },
   "file_extension": ".py",
   "mimetype": "text/x-python",
   "name": "python",
   "nbconvert_exporter": "python",
   "pygments_lexer": "ipython3",
   "version": "3.6.7"
  }
 },
 "nbformat": 4,
 "nbformat_minor": 2
}
